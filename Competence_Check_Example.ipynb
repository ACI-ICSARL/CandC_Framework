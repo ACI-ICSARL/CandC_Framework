{
 "cells": [
  {
   "cell_type": "code",
   "execution_count": 1,
   "id": "c14cb581-7fd9-46d4-8c30-29de85ac87ec",
   "metadata": {},
   "outputs": [
    {
     "name": "stdout",
     "output_type": "stream",
     "text": [
      "Requirement already satisfied: tqdm in /usr/local/lib/python3.10/dist-packages (4.66.5)\n",
      "\n",
      "\u001b[1m[\u001b[0m\u001b[34;49mnotice\u001b[0m\u001b[1;39;49m]\u001b[0m\u001b[39;49m A new release of pip is available: \u001b[0m\u001b[31;49m24.0\u001b[0m\u001b[39;49m -> \u001b[0m\u001b[32;49m24.2\u001b[0m\n",
      "\u001b[1m[\u001b[0m\u001b[34;49mnotice\u001b[0m\u001b[1;39;49m]\u001b[0m\u001b[39;49m To update, run: \u001b[0m\u001b[32;49mpython -m pip install --upgrade pip\u001b[0m\n",
      "Requirement already satisfied: statsmodels in /usr/local/lib/python3.10/dist-packages (0.14.2)\n",
      "Requirement already satisfied: numpy>=1.22.3 in /usr/local/lib/python3.10/dist-packages (from statsmodels) (1.26.4)\n",
      "Requirement already satisfied: scipy!=1.9.2,>=1.8 in /usr/local/lib/python3.10/dist-packages (from statsmodels) (1.13.0)\n",
      "Requirement already satisfied: pandas!=2.1.0,>=1.4 in /usr/local/lib/python3.10/dist-packages (from statsmodels) (2.2.2)\n",
      "Requirement already satisfied: patsy>=0.5.6 in /usr/local/lib/python3.10/dist-packages (from statsmodels) (0.5.6)\n",
      "Requirement already satisfied: packaging>=21.3 in /usr/local/lib/python3.10/dist-packages (from statsmodels) (24.0)\n",
      "Requirement already satisfied: python-dateutil>=2.8.2 in /usr/local/lib/python3.10/dist-packages (from pandas!=2.1.0,>=1.4->statsmodels) (2.9.0.post0)\n",
      "Requirement already satisfied: pytz>=2020.1 in /usr/local/lib/python3.10/dist-packages (from pandas!=2.1.0,>=1.4->statsmodels) (2024.1)\n",
      "Requirement already satisfied: tzdata>=2022.7 in /usr/local/lib/python3.10/dist-packages (from pandas!=2.1.0,>=1.4->statsmodels) (2024.1)\n",
      "Requirement already satisfied: six in /usr/local/lib/python3.10/dist-packages (from patsy>=0.5.6->statsmodels) (1.16.0)\n",
      "\n",
      "\u001b[1m[\u001b[0m\u001b[34;49mnotice\u001b[0m\u001b[1;39;49m]\u001b[0m\u001b[39;49m A new release of pip is available: \u001b[0m\u001b[31;49m24.0\u001b[0m\u001b[39;49m -> \u001b[0m\u001b[32;49m24.2\u001b[0m\n",
      "\u001b[1m[\u001b[0m\u001b[34;49mnotice\u001b[0m\u001b[1;39;49m]\u001b[0m\u001b[39;49m To update, run: \u001b[0m\u001b[32;49mpython -m pip install --upgrade pip\u001b[0m\n"
     ]
    }
   ],
   "source": [
    "!pip install tqdm\n",
    "!pip install statsmodels"
   ]
  },
  {
   "cell_type": "code",
   "execution_count": 2,
   "id": "1ee8d85f-6624-4044-90dd-50d541badf25",
   "metadata": {},
   "outputs": [
    {
     "name": "stderr",
     "output_type": "stream",
     "text": [
      "2024-08-12 14:43:47.838085: I tensorflow/core/platform/cpu_feature_guard.cc:210] This TensorFlow binary is optimized to use available CPU instructions in performance-critical operations.\n",
      "To enable the following instructions: AVX2 FMA, in other operations, rebuild TensorFlow with the appropriate compiler flags.\n",
      "2024-08-12 14:43:48.527158: W tensorflow/compiler/tf2tensorrt/utils/py_utils.cc:38] TF-TRT Warning: Could not find TensorRT\n"
     ]
    }
   ],
   "source": [
    "import torch\n",
    "import sys\n",
    "import os\n",
    "sys.path.insert(1,os.path.join(os.getcwd(),'CandC'))\n",
    "import certainty_stats\n",
    "import certainty"
   ]
  },
  {
   "cell_type": "code",
   "execution_count": 3,
   "id": "36c5554a-0770-4bef-93e1-e738d975ac64",
   "metadata": {},
   "outputs": [],
   "source": [
    "X=torch.randint(0,100,(1000,100))"
   ]
  },
  {
   "cell_type": "code",
   "execution_count": 4,
   "id": "5b3b0da9-4833-4f05-8120-7f79a3eb8947",
   "metadata": {},
   "outputs": [],
   "source": [
    "prob_row = (lambda x: x/x.sum())"
   ]
  },
  {
   "cell_type": "code",
   "execution_count": 5,
   "id": "ef763ec9-d151-4894-b4e1-7a9416379591",
   "metadata": {},
   "outputs": [],
   "source": [
    "pX = torch.vmap(prob_row)(X)"
   ]
  },
  {
   "cell_type": "code",
   "execution_count": 6,
   "id": "90ae88ae-3866-4686-b269-668c240a67b5",
   "metadata": {},
   "outputs": [],
   "source": [
    "y=torch.randint(0,100,(1000,))"
   ]
  },
  {
   "cell_type": "code",
   "execution_count": 7,
   "id": "c35c5d2c-3ad4-4da7-a994-2aac7b26e481",
   "metadata": {},
   "outputs": [],
   "source": [
    "xPred=X.max(1)[1]"
   ]
  },
  {
   "cell_type": "code",
   "execution_count": 8,
   "id": "063948dd-9698-4783-b8b3-e38312fd442a",
   "metadata": {},
   "outputs": [],
   "source": [
    "halfsies= torch.cat([xPred[0:500],y[500:]])"
   ]
  },
  {
   "cell_type": "code",
   "execution_count": 9,
   "id": "1e11cccf-2fd6-423e-839c-e2ff982d128a",
   "metadata": {},
   "outputs": [
    {
     "data": {
      "text/plain": [
       "torch.Size([1000])"
      ]
     },
     "execution_count": 9,
     "metadata": {},
     "output_type": "execute_result"
    }
   ],
   "source": [
    "halfsies.shape"
   ]
  },
  {
   "cell_type": "code",
   "execution_count": 10,
   "id": "06fe0f76-bda3-4e29-a326-13b346d72df0",
   "metadata": {},
   "outputs": [],
   "source": [
    "certaintyscoreX = certainty.get_certainty(pX)[1] "
   ]
  },
  {
   "cell_type": "code",
   "execution_count": 11,
   "id": "07919561-1607-4f3b-a78d-963c532cae15",
   "metadata": {},
   "outputs": [
    {
     "data": {
      "text/plain": [
       "torch.Size([1000, 1])"
      ]
     },
     "execution_count": 11,
     "metadata": {},
     "output_type": "execute_result"
    }
   ],
   "source": [
    "certaintyscoreX.shape"
   ]
  },
  {
   "cell_type": "code",
   "execution_count": 12,
   "id": "cbcad759-4aab-4d61-ae5d-aac5e4e8277e",
   "metadata": {},
   "outputs": [],
   "source": [
    "cc1=certainty_stats.component_competence(pX,xPred)\n",
    "cc2=certainty_stats.component_competence(pX,halfsies)\n",
    "cc3=certainty_stats.component_competence(pX,y)"
   ]
  },
  {
   "cell_type": "code",
   "execution_count": 13,
   "id": "1b8f143d-bbc1-474f-b6df-a8801627f22c",
   "metadata": {},
   "outputs": [
    {
     "name": "stdout",
     "output_type": "stream",
     "text": [
      "component competence on all predictions is 0.009951982647180557\n",
      " component competence on half predictions is 0.005319703370332718\n",
      " true component competence is 0.00033201370388269424\n"
     ]
    }
   ],
   "source": [
    "print('component competence on all predictions is {}\\n component competence on half predictions is {}\\n true component competence is {}'.format(cc1,cc2,cc3))"
   ]
  },
  {
   "cell_type": "markdown",
   "id": "83e3e524-60a3-443e-b2b4-2e74f4d22164",
   "metadata": {},
   "source": [
    "Let's rig an example for comparison"
   ]
  },
  {
   "cell_type": "code",
   "execution_count": 14,
   "id": "e6568ce5-b6b9-4109-ac8c-1c1aa33715d1",
   "metadata": {},
   "outputs": [],
   "source": [
    "A= torch.Tensor([[1,0,0],[1,0,0],[.5,.4,.1],[.6,.2,.2],[.4,.3,.3],[1/3,1/3,1/3]])"
   ]
  },
  {
   "cell_type": "code",
   "execution_count": 15,
   "id": "36090804-f674-436c-a387-41a0949f662f",
   "metadata": {},
   "outputs": [],
   "source": [
    "APred = A.max(1)[1]"
   ]
  },
  {
   "cell_type": "code",
   "execution_count": 16,
   "id": "d905e2b4-5600-4785-b6b4-e8e93567d30f",
   "metadata": {},
   "outputs": [
    {
     "data": {
      "text/plain": [
       "tensor([0, 0, 0, 0, 0, 0])"
      ]
     },
     "execution_count": 16,
     "metadata": {},
     "output_type": "execute_result"
    }
   ],
   "source": [
    "APred"
   ]
  },
  {
   "cell_type": "code",
   "execution_count": 17,
   "id": "14b0204f-3cdf-4460-8cc9-1cf00f03b434",
   "metadata": {},
   "outputs": [],
   "source": [
    "AObs = torch.Tensor([0,0,0,0,0,1]).int()"
   ]
  },
  {
   "cell_type": "code",
   "execution_count": 18,
   "id": "02d4b30d-5ab5-4e85-83c4-11dbf87b0195",
   "metadata": {},
   "outputs": [],
   "source": [
    "certaintscoreA= certainty.get_certainty(A)[1]"
   ]
  },
  {
   "cell_type": "code",
   "execution_count": 19,
   "id": "2506b5b1-e626-41ae-9f69-a755eff9108d",
   "metadata": {},
   "outputs": [
    {
     "data": {
      "text/plain": [
       "tensor([[1.0000],\n",
       "        [1.0000],\n",
       "        [0.1000],\n",
       "        [0.4000],\n",
       "        [0.1000],\n",
       "        [0.0000]])"
      ]
     },
     "execution_count": 19,
     "metadata": {},
     "output_type": "execute_result"
    }
   ],
   "source": [
    "certaintscoreA"
   ]
  },
  {
   "cell_type": "code",
   "execution_count": 20,
   "id": "4816b6f6-f945-492e-a13b-cb5b0a954bf5",
   "metadata": {},
   "outputs": [
    {
     "data": {
      "text/plain": [
       "tensor(0.3056)"
      ]
     },
     "execution_count": 20,
     "metadata": {},
     "output_type": "execute_result"
    }
   ],
   "source": [
    "certainty_stats.component_competence(A,APred)"
   ]
  },
  {
   "cell_type": "code",
   "execution_count": 21,
   "id": "fd5c7426-03e5-4075-be9a-9bedc8343479",
   "metadata": {},
   "outputs": [
    {
     "data": {
      "text/plain": [
       "tensor(0.3056)"
      ]
     },
     "execution_count": 21,
     "metadata": {},
     "output_type": "execute_result"
    }
   ],
   "source": [
    "certainty_stats.component_competence(A,AObs)"
   ]
  },
  {
   "cell_type": "code",
   "execution_count": 22,
   "id": "18e2f6c9-acac-4b81-a050-98949e431a90",
   "metadata": {},
   "outputs": [],
   "source": [
    "import pandas as pd"
   ]
  },
  {
   "cell_type": "code",
   "execution_count": 23,
   "id": "3933d5d0-68f9-4040-9ebb-699788e90d23",
   "metadata": {},
   "outputs": [],
   "source": [
    "df1 = pd.DataFrame({'certainty_score':certaintyscoreX.flatten().numpy(), 'prediction':xPred, 'classification':xPred})\n",
    "df2 = pd.DataFrame({'certainty_score':certaintyscoreX.flatten().numpy(), 'prediction':xPred, 'classification':halfsies})\n",
    "df3 = pd.DataFrame({'certainty_score':certaintyscoreX.flatten().numpy(), 'prediction':xPred, 'classification':y})\n",
    "df4 = pd.DataFrame({'certainty_score':certaintscoreA.flatten().numpy(), 'prediction':APred, 'classification':AObs})"
   ]
  },
  {
   "cell_type": "code",
   "execution_count": 24,
   "id": "41e45387-02b4-4492-a8a8-4b23e3583925",
   "metadata": {},
   "outputs": [],
   "source": [
    "predictive_ = (lambda x: 'TP' if x.prediction==x.classification else 'FP')"
   ]
  },
  {
   "cell_type": "code",
   "execution_count": 25,
   "id": "4401f2cc-b5b7-4c5a-a629-97a57b9dd95f",
   "metadata": {},
   "outputs": [],
   "source": [
    "df1['predictive_status']=df1.apply(predictive_,axis=1)\n",
    "df2['predictive_status']=df2.apply(predictive_,axis=1)\n",
    "df3['predictive_status']=df3.apply(predictive_,axis=1)\n",
    "df4['predictive_status']=df4.apply(predictive_,axis=1)"
   ]
  },
  {
   "cell_type": "code",
   "execution_count": 26,
   "id": "fd0a8ce9-b625-4ad6-800b-4e9b25444d7c",
   "metadata": {},
   "outputs": [],
   "source": [
    "ec1= certainty_stats.empirical_competence(df1)\n",
    "ec2= certainty_stats.empirical_competence(df2)\n",
    "ec3= certainty_stats.empirical_competence(df3)\n",
    "ec4= certainty_stats.empirical_competence(df4)"
   ]
  },
  {
   "cell_type": "code",
   "execution_count": 27,
   "id": "2d9570b9-b41b-4e17-bf48-808d86145f67",
   "metadata": {},
   "outputs": [
    {
     "data": {
      "text/plain": [
       "0.0001841806173324585"
      ]
     },
     "execution_count": 27,
     "metadata": {},
     "output_type": "execute_result"
    }
   ],
   "source": [
    "ec1"
   ]
  },
  {
   "cell_type": "code",
   "execution_count": 28,
   "id": "57c83a87-644c-4caf-a84e-903bc9c10306",
   "metadata": {},
   "outputs": [
    {
     "data": {
      "text/plain": [
       "9.744085371494293e-06"
      ]
     },
     "execution_count": 28,
     "metadata": {},
     "output_type": "execute_result"
    }
   ],
   "source": [
    "ec2"
   ]
  },
  {
   "cell_type": "code",
   "execution_count": 29,
   "id": "08b02899-363f-419d-b394-4c2869a57a09",
   "metadata": {},
   "outputs": [
    {
     "data": {
      "text/plain": [
       "-0.00017925770580768586"
      ]
     },
     "execution_count": 29,
     "metadata": {},
     "output_type": "execute_result"
    }
   ],
   "source": [
    "ec3"
   ]
  },
  {
   "cell_type": "code",
   "execution_count": 30,
   "id": "004e324b-1792-4630-b1df-f8091ce4734d",
   "metadata": {},
   "outputs": [
    {
     "data": {
      "text/plain": [
       "0.4333333174387614"
      ]
     },
     "execution_count": 30,
     "metadata": {},
     "output_type": "execute_result"
    }
   ],
   "source": [
    "ec4"
   ]
  },
  {
   "cell_type": "code",
   "execution_count": null,
   "id": "845ef824-2fe8-47fc-b597-bf2d94460e2b",
   "metadata": {},
   "outputs": [],
   "source": []
  }
 ],
 "metadata": {
  "kernelspec": {
   "display_name": "Python 3 (ipykernel)",
   "language": "python",
   "name": "python3"
  },
  "language_info": {
   "codemirror_mode": {
    "name": "ipython",
    "version": 3
   },
   "file_extension": ".py",
   "mimetype": "text/x-python",
   "name": "python",
   "nbconvert_exporter": "python",
   "pygments_lexer": "ipython3",
   "version": "3.10.12"
  }
 },
 "nbformat": 4,
 "nbformat_minor": 5
}
